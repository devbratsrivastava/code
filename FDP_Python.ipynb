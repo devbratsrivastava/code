{
  "nbformat": 4,
  "nbformat_minor": 0,
  "metadata": {
    "colab": {
      "name": "FDP_Python.ipynb",
      "provenance": [],
      "collapsed_sections": [],
      "authorship_tag": "ABX9TyM9+m9cYDPyAxwGWbAMlJA+",
      "include_colab_link": true
    },
    "kernelspec": {
      "name": "python3",
      "display_name": "Python 3"
    },
    "language_info": {
      "name": "python"
    }
  },
  "cells": [
    {
      "cell_type": "markdown",
      "metadata": {
        "id": "view-in-github",
        "colab_type": "text"
      },
      "source": [
        "<a href=\"https://colab.research.google.com/github/devbratsrivastava/code/blob/master/FDP_Python.ipynb\" target=\"_parent\"><img src=\"https://colab.research.google.com/assets/colab-badge.svg\" alt=\"Open In Colab\"/></a>"
      ]
    },
    {
      "cell_type": "markdown",
      "metadata": {
        "id": "H18s1W-JcXh_"
      },
      "source": [
        "DAY 0\n",
        "\n",
        "---\n",
        "\n"
      ]
    },
    {
      "cell_type": "code",
      "metadata": {
        "colab": {
          "base_uri": "https://localhost:8080/"
        },
        "id": "YZKzU8jNcb8k",
        "outputId": "0dc51ed2-174c-4b02-e3d4-c3979016553a"
      },
      "source": [
        "s=input('enter anything')\n",
        "print('hi',s)\n",
        "print('bye',s)"
      ],
      "execution_count": null,
      "outputs": [
        {
          "output_type": "stream",
          "text": [
            "enter anything\\n\n",
            "hi \\n\n",
            "bye \\n\n"
          ],
          "name": "stdout"
        }
      ]
    },
    {
      "cell_type": "markdown",
      "metadata": {
        "id": "YbraducWDms5"
      },
      "source": [
        "DAY 1"
      ]
    },
    {
      "cell_type": "code",
      "metadata": {
        "colab": {
          "base_uri": "https://localhost:8080/"
        },
        "id": "H2v2e5Z0Sq8v",
        "outputId": "4fa70c0b-552f-473d-9916-f389d018675b"
      },
      "source": [
        "f=float(input('enter the temperature in fahrenheit'))\n",
        "c=(5/9)*(f-32)\n",
        "print('the temperature in celcius is',round(c,2),'C')"
      ],
      "execution_count": null,
      "outputs": [
        {
          "output_type": "stream",
          "text": [
            "enter the temperature in fahrenheit212\n",
            "the temperature in celcius is 100.0 C\n"
          ],
          "name": "stdout"
        }
      ]
    },
    {
      "cell_type": "code",
      "metadata": {
        "colab": {
          "base_uri": "https://localhost:8080/"
        },
        "id": "twC2MVJ7UhVU",
        "outputId": "9f43043c-5dcf-4d67-d799-780a0daab9b0"
      },
      "source": [
        "u=float(input('enter the initial velocity'))\n",
        "a=float(input('enter the acceleration'))\n",
        "t=float(input('enter the time duration'))\n",
        "v=u+(a*t)\n",
        "print('the final velocity will be',round(v,2))"
      ],
      "execution_count": null,
      "outputs": [
        {
          "output_type": "stream",
          "text": [
            "enter the initial velocity20\n",
            "enter the acceleration15\n",
            "enter the time duration2\n",
            "the final velocity will be 50.0\n"
          ],
          "name": "stdout"
        }
      ]
    },
    {
      "cell_type": "code",
      "metadata": {
        "colab": {
          "base_uri": "https://localhost:8080/"
        },
        "id": "kNdDgJdEYK3s",
        "outputId": "ca6da428-a67d-4e48-a5b3-bb6c75fe78c9"
      },
      "source": [
        "u=float(input('enter the initial velocity'))\n",
        "a=float(input('enter the acceleration'))\n",
        "t=float(input('enter the time duration'))\n",
        "x=u*t+(1/2)*(a*t*t)\n",
        "print('the displacement covered will be',round(x,2),'m')"
      ],
      "execution_count": null,
      "outputs": [
        {
          "output_type": "stream",
          "text": [
            "enter the initial velocity20\n",
            "enter the acceleration15\n",
            "enter the time duration2\n",
            "the displacement covered will be 70.0 m\n"
          ],
          "name": "stdout"
        }
      ]
    },
    {
      "cell_type": "code",
      "metadata": {
        "colab": {
          "base_uri": "https://localhost:8080/"
        },
        "id": "nCguVGlgaaaf",
        "outputId": "0b55f655-eb95-47f5-d78c-6a19ff26c826"
      },
      "source": [
        "s=int(input('enter the no. of seconds'))\n",
        "sec=int(s%60)\n",
        "s/=60\n",
        "min=int(s%60)\n",
        "s/=60\n",
        "hr=int(s%60)\n",
        "print(hr,':',min,':',sec)"
      ],
      "execution_count": null,
      "outputs": [
        {
          "output_type": "stream",
          "text": [
            "enter the no. of seconds5\n",
            "0 : 0 : 5\n"
          ],
          "name": "stdout"
        }
      ]
    },
    {
      "cell_type": "markdown",
      "metadata": {
        "id": "WI1kKrTUDi0x"
      },
      "source": [
        "DAY 2"
      ]
    },
    {
      "cell_type": "code",
      "metadata": {
        "colab": {
          "base_uri": "https://localhost:8080/"
        },
        "id": "eC0p83TkVFAw",
        "outputId": "1872d3e6-b80d-47bf-da70-1b30e6ee3874"
      },
      "source": [
        "m=[]\n",
        "mm=[20,100,100,50]\n",
        "w=[15,40,20,25]\n",
        "s=0\n",
        "#print(w)\n",
        "print('enter the marks')\n",
        "for i in range(0,4):\n",
        "  m.append(int(input('')))\n",
        "#print(m)\n",
        "for i in range(0,4):\n",
        "  s+=((m[i]/mm[i])*(w[i]/100))\n",
        "s*=10\n",
        "print(round(s,2))"
      ],
      "execution_count": null,
      "outputs": [
        {
          "output_type": "stream",
          "text": [
            "enter the marks\n",
            "20\n",
            "100\n",
            "100\n",
            "50\n",
            "10.0\n"
          ],
          "name": "stdout"
        }
      ]
    },
    {
      "cell_type": "code",
      "metadata": {
        "colab": {
          "base_uri": "https://localhost:8080/"
        },
        "id": "OI9SocPZMgko",
        "outputId": "51f31295-d62c-4631-cafa-3ca00b156230"
      },
      "source": [
        "s=input('enter a string')\n",
        "print(s.count('will'))"
      ],
      "execution_count": null,
      "outputs": [
        {
          "output_type": "stream",
          "text": [
            "enter a stringCan you write a whole paragraph without the letter a? Your sentences will sound wrong. Everyone will notice something weird. You will use uncommon words.\n",
            "3\n"
          ],
          "name": "stdout"
        }
      ]
    },
    {
      "cell_type": "code",
      "metadata": {
        "colab": {
          "base_uri": "https://localhost:8080/"
        },
        "id": "wSIjTNIqDeHA",
        "outputId": "2a002893-46ae-451f-f297-ecd0787391fd"
      },
      "source": [
        "s=input('enter a string')\n",
        "print(s,s.lower()==s.lower()[::-1])"
      ],
      "execution_count": null,
      "outputs": [
        {
          "output_type": "stream",
          "text": [
            "enter a stringMaam\n",
            "Maam True\n"
          ],
          "name": "stdout"
        }
      ]
    },
    {
      "cell_type": "code",
      "metadata": {
        "colab": {
          "base_uri": "https://localhost:8080/"
        },
        "id": "qg0C3Yhvn_on",
        "outputId": "e9568ce3-5065-4bfe-ef29-94ef2ea69583"
      },
      "source": [
        "s=input('enter a string')\n",
        "for i in range(0,len(s)-2):\n",
        "  if s[i:i+3]=='not':\n",
        "    si=i\n",
        "  if s[i:i+3]=='bad':\n",
        "    li=i+3\n",
        "print(s[0:si]+'good'+s[li:len(s)])"
      ],
      "execution_count": null,
      "outputs": [
        {
          "output_type": "stream",
          "text": [
            "enter a stringThe lyrics are not that bad!\n",
            "The lyrics are good!\n"
          ],
          "name": "stdout"
        }
      ]
    },
    {
      "cell_type": "markdown",
      "metadata": {
        "id": "ApYa0DykegF5"
      },
      "source": [
        "DAY 3"
      ]
    },
    {
      "cell_type": "code",
      "metadata": {
        "colab": {
          "base_uri": "https://localhost:8080/"
        },
        "id": "iQ9NuutWQshA",
        "outputId": "60b91e31-e6fc-45ea-f26e-2af999bf819d"
      },
      "source": [
        "#P31\n",
        "m=[]\n",
        "mm=[20,100,100,50]\n",
        "w=[15,40,20,25]\n",
        "s,x,c=0,0,0\n",
        "#print(w)\n",
        "print('enter the marks')\n",
        "for i in range(0,4):\n",
        "  x=int(input(''))\n",
        "  if ((x>=0) and (x<=mm[i])) :\n",
        "    m.append(x)\n",
        "  else:\n",
        "    if x<0:\n",
        "      print('Enter positive numbers only')\n",
        "      c=1\n",
        "      break\n",
        "    else:\n",
        "      print('Enter the number less than maximum marks')\n",
        "      c=1\n",
        "      break\n",
        "#print(m).9\n",
        "if c==0:\n",
        "  for i in range(0,4):\n",
        "    s+=((m[i]/mm[i])*(w[i]/100))\n",
        "  s*=10\n",
        "  print(round(s,2))"
      ],
      "execution_count": null,
      "outputs": [
        {
          "output_type": "stream",
          "text": [
            "enter the marks\n",
            "18\n",
            "80\n",
            "90\n",
            "45\n",
            "8.6\n"
          ],
          "name": "stdout"
        }
      ]
    },
    {
      "cell_type": "code",
      "metadata": {
        "colab": {
          "base_uri": "https://localhost:8080/"
        },
        "id": "_gp3sb2vOqgZ",
        "outputId": "0bde32a0-a510-479c-93f9-26b7bacb2759"
      },
      "source": [
        "#P32\n",
        "s=input('enter a string')\n",
        "c1,c2=0,0\n",
        "for i in range(0,len(s)-2):\n",
        "  if s[i:i+3]=='not':\n",
        "    si=i\n",
        "    c1=1\n",
        "    for j in range(i,len(s)-2):\n",
        "      if s[j:j+3]=='bad':\n",
        "        li=j+3\n",
        "        c2=1\n",
        "if c1==1 and c2==1:\n",
        "  print(s[0:si]+'good'+s[li:len(s)])\n",
        "else:\n",
        "  print(s)"
      ],
      "execution_count": null,
      "outputs": [
        {
          "output_type": "stream",
          "text": [
            "enter a stringThe song is good.\n",
            "The song is good.\n"
          ],
          "name": "stdout"
        }
      ]
    },
    {
      "cell_type": "code",
      "metadata": {
        "colab": {
          "base_uri": "https://localhost:8080/"
        },
        "id": "VM548ZLth9PR",
        "outputId": "6e1f2e8a-f947-4b33-dede-c2f606c39bae"
      },
      "source": [
        "#P33\n",
        "m,s=int(input('enter the number')),0\n",
        "n=m\n",
        "while n>0:\n",
        "  s+=(n%10)**3\n",
        "  n=int(n/10)\n",
        "#print(s==m)\n",
        "if s==m:\n",
        "  print('The sum of the cubes is',s,'It is the same as number',s)\n",
        "else:\n",
        "    print('The sum of the cubes is',s,'It is NOT the same as number',s)\n"
      ],
      "execution_count": null,
      "outputs": [
        {
          "output_type": "stream",
          "text": [
            "enter the number5\n",
            "The sum of the cubes is 125 It is NOT the same as number 125\n"
          ],
          "name": "stdout"
        }
      ]
    },
    {
      "cell_type": "code",
      "metadata": {
        "colab": {
          "base_uri": "https://localhost:8080/"
        },
        "id": "W72I-TDzefGv",
        "outputId": "3a4349f7-1b5c-4927-e8fc-d60c1fb1b404"
      },
      "source": [
        "#P34\n",
        "n=int(input('enter the no.'))\n",
        "for i in range(1,n+1):\n",
        "  print('*'*i)"
      ],
      "execution_count": null,
      "outputs": [
        {
          "output_type": "stream",
          "text": [
            "enter the no.4\n",
            "*\n",
            "**\n",
            "***\n",
            "****\n"
          ],
          "name": "stdout"
        }
      ]
    },
    {
      "cell_type": "code",
      "metadata": {
        "colab": {
          "base_uri": "https://localhost:8080/"
        },
        "id": "3VDUHvJI0QeA",
        "outputId": "b9e1209d-bbb4-40db-d83c-ea7498be5f07"
      },
      "source": [
        "#P35\n",
        "n=int(input('enter the no.'))\n",
        "for i in range(1,n+1):\n",
        "  print('_',end='')\n",
        "  for c in range(65,65+i):\n",
        "    print(chr(c),end ='_')\n",
        "  print('\\n')\n"
      ],
      "execution_count": null,
      "outputs": [
        {
          "output_type": "stream",
          "text": [
            "enter the no.4\n",
            "_A_\n",
            "\n",
            "_A_B_\n",
            "\n",
            "_A_B_C_\n",
            "\n",
            "_A_B_C_D_\n",
            "\n"
          ],
          "name": "stdout"
        }
      ]
    },
    {
      "cell_type": "code",
      "metadata": {
        "colab": {
          "base_uri": "https://localhost:8080/"
        },
        "id": "F90MkYqOro-l",
        "outputId": "3132f916-6106-4124-f4e1-3ee4cea849eb"
      },
      "source": [
        "#P36\n",
        "s=input('enter a string')\n",
        "l=s.replace(' ','').split(',')\n",
        "print([int(i)*2 for i in l])"
      ],
      "execution_count": null,
      "outputs": [
        {
          "output_type": "stream",
          "text": [
            "enter a string-1, 0, -2, 2, 0, 1\n",
            "[-2, 0, -4, 4, 0, 2]\n"
          ],
          "name": "stdout"
        }
      ]
    },
    {
      "cell_type": "markdown",
      "metadata": {
        "id": "7saRDGF1SoWu"
      },
      "source": [
        "DAY 4"
      ]
    },
    {
      "cell_type": "code",
      "metadata": {
        "colab": {
          "base_uri": "https://localhost:8080/"
        },
        "id": "RvTPqSqKSp04",
        "outputId": "f093a4e8-0565-413d-a78d-74558eeeeef2"
      },
      "source": [
        "#P41\n",
        "def is_leap_year(n):\n",
        "  if n%4==0:\n",
        "    if n%100==0:\n",
        "      if n%400:\n",
        "        print('True')\n",
        "      else:\n",
        "        print('False')\n",
        "    else:\n",
        "      print('True')\n",
        "  else:\n",
        "    print('False')\n",
        "n=int(input('enter the year'))\n",
        "is_leap_year(n)"
      ],
      "execution_count": null,
      "outputs": [
        {
          "output_type": "stream",
          "text": [
            "enter the year2025\n",
            "False\n"
          ],
          "name": "stdout"
        }
      ]
    },
    {
      "cell_type": "code",
      "metadata": {
        "colab": {
          "base_uri": "https://localhost:8080/",
          "height": 137
        },
        "id": "1SXnfQBkOVQx",
        "outputId": "a00be10b-5764-4a91-b70b-872c7973a1a9"
      },
      "source": [
        "#P42\n",
        "#def read_marks():\n",
        "#def read_marks(mm,w):\n",
        "m=[]\n",
        "mm=[20,100,100,50]\n",
        "w=[15,40,20,25]\n",
        "#global mm\n",
        "#global w\n",
        "s,x,c=0,0,0\n",
        "#print(w)\n",
        "print('enter the marks')\n",
        "for i in range(0,4):\n",
        "  m.append(int(input('')))\n",
        "for i in range(0,4):\n",
        "  if m[i]<0 or m[i]>mm[i]:\n",
        "    c=1;\n",
        "if c==0:\n",
        "  print( True,m)\n",
        "else:\n",
        "  m=[None]*4\n",
        "  print( False,m)\n",
        "\n",
        "#compute_gpa() \n",
        "def compute_gpa():\n",
        "  for i in range(0,4):\n",
        "  s+=((m[i]/mm[i])*(w[i]/100))\n",
        "  s*=10\n",
        "  return round(s,2)\n",
        "\n",
        "#assign_gpa\n",
        "def assign_grade(gpa):\n",
        "  if gpa==10:\n",
        "    return 'O'\n",
        "  elif gpa>=9 and gpa<10:\n",
        "    return 'A'\n",
        "  elif gpa>=8 and gpa<9:\n",
        "    return 'B'\n",
        "  elif gpa>=6.5 and gpa>8:\n",
        "    return 'C'\n",
        "  elif gpa>=5 and gpa>6.5:\n",
        "    return 'D'\n",
        "  else:\n",
        "    return 'F'\n",
        "#mm=[20,100,100,50]\n",
        "#w=[15,40,20,25]\n",
        "#read_marks(mm,w)\n",
        "'''if c==0:\n",
        "  for i in range(0,4):\n",
        "    s+=((m[i]/mm[i])*(w[i]/100))\n",
        "  s*=10\n",
        "  print(round(s,2))'''\n",
        "  "
      ],
      "execution_count": 70,
      "outputs": [
        {
          "output_type": "stream",
          "text": [
            "enter the marks\n",
            "18\n",
            "80\n",
            "90\n",
            "45\n",
            "True [18, 80, 90, 45]\n"
          ],
          "name": "stdout"
        },
        {
          "output_type": "execute_result",
          "data": {
            "application/vnd.google.colaboratory.intrinsic+json": {
              "type": "string"
            },
            "text/plain": [
              "'if c==0:\\n  for i in range(0,4):\\n    s+=((m[i]/mm[i])*(w[i]/100))\\n  s*=10\\n  print(round(s,2))'"
            ]
          },
          "metadata": {
            "tags": []
          },
          "execution_count": 70
        }
      ]
    },
    {
      "cell_type": "code",
      "metadata": {
        "colab": {
          "base_uri": "https://localhost:8080/"
        },
        "id": "WNLObriYzrPG",
        "outputId": "f623dca7-331f-45e1-84e5-4e32ae516b13"
      },
      "source": [
        "#P43\n",
        "def reverse(a,b):\n",
        "  #a,b=s.replace(' ','').split(',')\n",
        "  x,y=a[::-1],b[::-1]\n",
        "  return [x,y]\n",
        "def isPrime(l):\n",
        "  c1,c2=0,0\n",
        "  for i in range(2,int(int(l[0])/2)+1):\n",
        "    if int(l[0])%i==0:\n",
        "      c1=1\n",
        "  for i in range(2,int(int(l[1])/2)+1):\n",
        "    if int(l[1])%i==0:\n",
        "      c2=1\n",
        "  if c1==1 and c2==1:\n",
        "    return 2\n",
        "  elif c1==1 or c2==1:\n",
        "    return 1\n",
        "  else:\n",
        "    return 0\n",
        "s=input('enter the string')\n",
        "a,b=s.replace(' ','').split(',')\n",
        "l=reverse(a,b)\n",
        "if isPrime(l)==2:\n",
        "  print(int(x)+int(y))\n",
        "elif isPrime(l)==1:\n",
        "  print(int(a)+int(b))\n",
        "else:\n",
        "  print(int(a)*int(b))\n"
      ],
      "execution_count": 58,
      "outputs": [
        {
          "output_type": "stream",
          "text": [
            "enter the string123,123\n",
            "562\n"
          ],
          "name": "stdout"
        }
      ]
    },
    {
      "cell_type": "code",
      "metadata": {
        "colab": {
          "base_uri": "https://localhost:8080/"
        },
        "id": "sTr6jcoi8dwK",
        "outputId": "700eb16c-3b53-47e8-bf4b-18a3cf8af9e2"
      },
      "source": [
        "#P44\n",
        "def recSum(n):\n",
        "  #s=0\n",
        "  global s\n",
        "  while(n>0):\n",
        "    s+=n%10\n",
        "    n=int(n/10)\n",
        "  return s\n",
        "n=int(input('enter the no.'))\n",
        "s=0\n",
        "if n<10:\n",
        "  print(n)\n",
        "else:\n",
        "  recSum(n)"
      ],
      "execution_count": 13,
      "outputs": [
        {
          "output_type": "stream",
          "text": [
            "enter the no.5624434677\n"
          ],
          "name": "stdout"
        }
      ]
    },
    {
      "cell_type": "code",
      "metadata": {
        "colab": {
          "base_uri": "https://localhost:8080/",
          "height": 391
        },
        "id": "Le3bTGIXP633",
        "outputId": "5e0f29aa-9379-4592-c96b-de59e22bc43a"
      },
      "source": [
        "# import necessary module \n",
        "import math\n",
        "\n",
        "def solve(n):\n",
        "    if n<10:\n",
        "      while(n>0):\n",
        "          s=0\n",
        "          s+=n%10\n",
        "          solve(int(n/10))\n",
        "          print(s)\n",
        "    else:\n",
        "      solve(n)\n",
        "    #pass\n",
        "\n",
        "def main():\n",
        "    #take input\n",
        "    n=int(input(''))\n",
        "    solve(n)\n",
        "\n",
        "if __name__ == \"__main__\":\n",
        "    main()"
      ],
      "execution_count": 8,
      "outputs": [
        {
          "output_type": "stream",
          "text": [
            "10\n"
          ],
          "name": "stdout"
        },
        {
          "output_type": "error",
          "ename": "RecursionError",
          "evalue": "ignored",
          "traceback": [
            "\u001b[0;31m---------------------------------------------------------------------------\u001b[0m",
            "\u001b[0;31mRecursionError\u001b[0m                            Traceback (most recent call last)",
            "\u001b[0;32m<ipython-input-8-7b61570012f5>\u001b[0m in \u001b[0;36m<module>\u001b[0;34m()\u001b[0m\n\u001b[1;32m     19\u001b[0m \u001b[0;34m\u001b[0m\u001b[0m\n\u001b[1;32m     20\u001b[0m \u001b[0;32mif\u001b[0m \u001b[0m__name__\u001b[0m \u001b[0;34m==\u001b[0m \u001b[0;34m\"__main__\"\u001b[0m\u001b[0;34m:\u001b[0m\u001b[0;34m\u001b[0m\u001b[0;34m\u001b[0m\u001b[0m\n\u001b[0;32m---> 21\u001b[0;31m     \u001b[0mmain\u001b[0m\u001b[0;34m(\u001b[0m\u001b[0;34m)\u001b[0m\u001b[0;34m\u001b[0m\u001b[0;34m\u001b[0m\u001b[0m\n\u001b[0m",
            "\u001b[0;32m<ipython-input-8-7b61570012f5>\u001b[0m in \u001b[0;36mmain\u001b[0;34m()\u001b[0m\n\u001b[1;32m     16\u001b[0m     \u001b[0;31m#take input\u001b[0m\u001b[0;34m\u001b[0m\u001b[0;34m\u001b[0m\u001b[0;34m\u001b[0m\u001b[0m\n\u001b[1;32m     17\u001b[0m     \u001b[0mn\u001b[0m\u001b[0;34m=\u001b[0m\u001b[0mint\u001b[0m\u001b[0;34m(\u001b[0m\u001b[0minput\u001b[0m\u001b[0;34m(\u001b[0m\u001b[0;34m''\u001b[0m\u001b[0;34m)\u001b[0m\u001b[0;34m)\u001b[0m\u001b[0;34m\u001b[0m\u001b[0;34m\u001b[0m\u001b[0m\n\u001b[0;32m---> 18\u001b[0;31m     \u001b[0msolve\u001b[0m\u001b[0;34m(\u001b[0m\u001b[0mn\u001b[0m\u001b[0;34m)\u001b[0m\u001b[0;34m\u001b[0m\u001b[0;34m\u001b[0m\u001b[0m\n\u001b[0m\u001b[1;32m     19\u001b[0m \u001b[0;34m\u001b[0m\u001b[0m\n\u001b[1;32m     20\u001b[0m \u001b[0;32mif\u001b[0m \u001b[0m__name__\u001b[0m \u001b[0;34m==\u001b[0m \u001b[0;34m\"__main__\"\u001b[0m\u001b[0;34m:\u001b[0m\u001b[0;34m\u001b[0m\u001b[0;34m\u001b[0m\u001b[0m\n",
            "\u001b[0;32m<ipython-input-8-7b61570012f5>\u001b[0m in \u001b[0;36msolve\u001b[0;34m(n)\u001b[0m\n\u001b[1;32m     10\u001b[0m           \u001b[0mprint\u001b[0m\u001b[0;34m(\u001b[0m\u001b[0ms\u001b[0m\u001b[0;34m)\u001b[0m\u001b[0;34m\u001b[0m\u001b[0;34m\u001b[0m\u001b[0m\n\u001b[1;32m     11\u001b[0m     \u001b[0;32melse\u001b[0m\u001b[0;34m:\u001b[0m\u001b[0;34m\u001b[0m\u001b[0;34m\u001b[0m\u001b[0m\n\u001b[0;32m---> 12\u001b[0;31m       \u001b[0msolve\u001b[0m\u001b[0;34m(\u001b[0m\u001b[0mn\u001b[0m\u001b[0;34m)\u001b[0m\u001b[0;34m\u001b[0m\u001b[0;34m\u001b[0m\u001b[0m\n\u001b[0m\u001b[1;32m     13\u001b[0m     \u001b[0;31m#pass\u001b[0m\u001b[0;34m\u001b[0m\u001b[0;34m\u001b[0m\u001b[0;34m\u001b[0m\u001b[0m\n\u001b[1;32m     14\u001b[0m \u001b[0;34m\u001b[0m\u001b[0m\n",
            "... last 1 frames repeated, from the frame below ...\n",
            "\u001b[0;32m<ipython-input-8-7b61570012f5>\u001b[0m in \u001b[0;36msolve\u001b[0;34m(n)\u001b[0m\n\u001b[1;32m     10\u001b[0m           \u001b[0mprint\u001b[0m\u001b[0;34m(\u001b[0m\u001b[0ms\u001b[0m\u001b[0;34m)\u001b[0m\u001b[0;34m\u001b[0m\u001b[0;34m\u001b[0m\u001b[0m\n\u001b[1;32m     11\u001b[0m     \u001b[0;32melse\u001b[0m\u001b[0;34m:\u001b[0m\u001b[0;34m\u001b[0m\u001b[0;34m\u001b[0m\u001b[0m\n\u001b[0;32m---> 12\u001b[0;31m       \u001b[0msolve\u001b[0m\u001b[0;34m(\u001b[0m\u001b[0mn\u001b[0m\u001b[0;34m)\u001b[0m\u001b[0;34m\u001b[0m\u001b[0;34m\u001b[0m\u001b[0m\n\u001b[0m\u001b[1;32m     13\u001b[0m     \u001b[0;31m#pass\u001b[0m\u001b[0;34m\u001b[0m\u001b[0;34m\u001b[0m\u001b[0;34m\u001b[0m\u001b[0m\n\u001b[1;32m     14\u001b[0m \u001b[0;34m\u001b[0m\u001b[0m\n",
            "\u001b[0;31mRecursionError\u001b[0m: maximum recursion depth exceeded in comparison"
          ]
        }
      ]
    },
    {
      "cell_type": "code",
      "metadata": {
        "colab": {
          "base_uri": "https://localhost:8080/"
        },
        "id": "VqZedfVALQkz",
        "outputId": "4e2d2451-084a-49b4-eded-7cc62d5caef1"
      },
      "source": [
        "#P45\n",
        "n=int(input('enter the no. of disc'))\n",
        "print(2**n-1)"
      ],
      "execution_count": 59,
      "outputs": [
        {
          "output_type": "stream",
          "text": [
            "enter the no. of disc7\n",
            "127\n"
          ],
          "name": "stdout"
        }
      ]
    },
    {
      "cell_type": "markdown",
      "metadata": {
        "id": "HBuHv0WLVL7h"
      },
      "source": [
        "DAY 5"
      ]
    },
    {
      "cell_type": "code",
      "metadata": {
        "colab": {
          "base_uri": "https://localhost:8080/"
        },
        "id": "L2jQyR6ueXvb",
        "outputId": "a35d371b-a90a-448c-b83d-474e19d58de6"
      },
      "source": [
        "#P52\n",
        "s=input('enter a string')\n",
        "s=s.lower()\n",
        "l=[]\n",
        "for i in range(97,123):\n",
        "  if chr(i) not in s:\n",
        "    l.append(chr(i))\n",
        "if len(l)!=0:\n",
        "  print(l)\n",
        "else:\n",
        "  print('Yes, the string is a pangram.')"
      ],
      "execution_count": 7,
      "outputs": [
        {
          "output_type": "stream",
          "text": [
            "enter a stringThe quick brown fox jumps over the lazy dog\n",
            "Yes, the string is a pangram.\n"
          ],
          "name": "stdout"
        }
      ]
    },
    {
      "cell_type": "code",
      "metadata": {
        "colab": {
          "base_uri": "https://localhost:8080/"
        },
        "id": "aFIxMqe5VNKk",
        "outputId": "7bf41f6c-2ddc-4195-b31a-05c523b14552"
      },
      "source": [
        "#P53\n",
        "from collections import Counter\n",
        "s=input('enter a string')\n",
        "f = Counter(s)\n",
        "print (str(f))\n"
      ],
      "execution_count": 1,
      "outputs": [
        {
          "output_type": "stream",
          "text": [
            "enter a stringwww.google.com\n",
            "Counter({'w': 3, 'o': 3, '.': 2, 'g': 2, 'l': 1, 'e': 1, 'c': 1, 'm': 1})\n"
          ],
          "name": "stdout"
        }
      ]
    },
    {
      "cell_type": "code",
      "metadata": {
        "colab": {
          "base_uri": "https://localhost:8080/"
        },
        "id": "8_ikoRRSh2As",
        "outputId": "7dba9dee-d734-41b3-9c4e-faf55a3e644b"
      },
      "source": [
        "# solution for  P42\n",
        "# checking for the valididy of the marks entered \n",
        "def read_marks(quiz,exam,assignment,project):\n",
        "    pass\n",
        "    if int(quiz < 0):\n",
        "            print(\"ERROR: Invalid Marks\", quiz, \" < 0\")\n",
        "            return True\n",
        "    elif quiz > 20:\n",
        "            print(\"ERROR: Invalid Marks\", quiz, \" > 20\")\n",
        "            return True\n",
        "    elif exam < 0:\n",
        "            print(\"ERROR: Invalid Marks\", exam, \" < 0\")\n",
        "            return True\n",
        "    elif exam > 100:\n",
        "            print(\"ERROR: Invalid Marks\", exam, \" > 100\")\n",
        "            return True\n",
        "    elif assignment < 0:\n",
        "            print(\"ERROR: Invalid Marks\", assignment, \" < 0\")\n",
        "            return True\n",
        "    elif assignment > 100:\n",
        "            print(\"ERROR: Invalid Marks\", assignment, \" > 100\")\n",
        "            return True\n",
        "    elif project < 0:\n",
        "            print(\"ERROR: Invalid Marks\",project, \" < 0\")\n",
        "            return True\n",
        "    elif project > 50:\n",
        "            print(\"ERROR: Invalid Marks\", project, \" > 50\")\n",
        "            return True\n",
        "    \n",
        "\n",
        "# computing GPA of the valid marks\n",
        "def compute_gpa(quiz,exam,assignment,project):\n",
        "    pass\n",
        "    gpa=float(((quiz*0.15/20)+(exam*0.4/100)+(assignment*0.2/100)+(project*0.25/50))*10)\n",
        "\n",
        "   \n",
        "# assigning grade according to the GPA\n",
        "def assign_grade(gpa):\n",
        "    pass\n",
        "    if gpa==10:\n",
        "        return 'O'\n",
        "    elif gpa>=9 and gpa<10:\n",
        "        return 'A'\n",
        "    elif gpa>=8 and gpa<9:\n",
        "        return 'B'\n",
        "    elif gpa>=6.5 and gpa>8:\n",
        "        return 'C'\n",
        "    elif gpa>=5 and gpa>6.5:\n",
        "        return 'D'\n",
        "    else:\n",
        "        return 'F'\n",
        "\n",
        "def main():\n",
        "    #take input and call functions\n",
        "    pass\n",
        "    quiz=float(input(\"Enter Quiz Marks out of 20: \"))\n",
        "    exam=float(input(\"Enter Exam Marks out of 100: \"))\n",
        "    assignment=float(input(\"Enter Assignment Marks out of 100: \"))\n",
        "    project=float(input(\"Enter Project Marks out of 50: \"))\n",
        "    if(read_marks(quiz,exam,assignment,project) == True):\n",
        "        print(\"The gpa is\",compute_gpa(),\"and the grade is\",assign_grade)\n",
        "\n",
        "if __name__ == \"__main__\":\n",
        "    main()"
      ],
      "execution_count": 9,
      "outputs": [
        {
          "output_type": "stream",
          "text": [
            "Enter Quiz Marks out of 20: 18\n",
            "Enter Exam Marks out of 100: 80\n",
            "Enter Assignment Marks out of 100: 90\n",
            "Enter Project Marks out of 50: 45\n"
          ],
          "name": "stdout"
        }
      ]
    },
    {
      "cell_type": "code",
      "metadata": {
        "id": "aCXDcCb2p1m0"
      },
      "source": [
        "# import necessary module \n",
        "import math\n",
        "\n",
        "def solve(n):\n",
        "    pass\n",
        "    if n == 0:\n",
        "        return 0\n",
        "    else:\n",
        "        return n%10 + solve(n//10)\n",
        "def main():\n",
        "    #take input\n",
        "    pass\n",
        "    n=int(input('Enter the no: '))\n",
        "    print(solve(n))\n",
        "\n",
        "if _name_ == \"_main_\":\n",
        "    main()"
      ],
      "execution_count": null,
      "outputs": []
    },
    {
      "cell_type": "code",
      "metadata": {
        "colab": {
          "base_uri": "https://localhost:8080/"
        },
        "id": "Vl5GHk7qznWf",
        "outputId": "0d88e267-458c-4dbb-a47a-ac7872b56bc4"
      },
      "source": [
        "# solution for  P42\n",
        "# checking for the valididy of the marks entered \n",
        "def read_marks(quiz,exam,assignment,project):\n",
        "    #pass\n",
        "    bool=True\n",
        "    if quiz<0 or quiz>20:\n",
        "        bool=False\n",
        "    if exam<0 or exam>100:\n",
        "        bool=False\n",
        "    if assignment<0 or assignment>100:\n",
        "        bool=False\n",
        "    if project<0 or project>50:\n",
        "        bool=False\n",
        "    return bool\n",
        "    \n",
        "\n",
        "\n",
        "# computing GPA of the valid marks\n",
        "def compute_gpa(quiz,exam,assignment,project):\n",
        "    #pass\n",
        "    #global gpa\n",
        "    #gpa=float(((quiz*0.15/20)+(exam*0.4/100)+(assignment*0.2/100)+(project*0.25/50))*10)\n",
        "    return float(((quiz*0.15/20)+(exam*0.4/100)+(assignment*0.2/100)+(project*0.25/50))*10)\n",
        "\n",
        "\n",
        "# assigning grade according to the GPA\n",
        "def assign_grade(gpa):\n",
        "    #pass\n",
        "    if gpa==10:\n",
        "        print(gpa,'O')\n",
        "    elif gpa>=9 and gpa<10:\n",
        "        print(gpa,'A')\n",
        "    elif gpa>=8 and gpa<9:\n",
        "        print(gpa,'B')\n",
        "    elif gpa>=6.5 and gpa>8:\n",
        "        print(gpa,'C')\n",
        "    elif gpa>=5 and gpa>6.5:\n",
        "        print(gpa,'D')\n",
        "    else:\n",
        "        print(gpa,'F')\n",
        "\n",
        "def main():\n",
        "    #take input and call functions\n",
        "    quiz=float(input(\"Enter Quiz Marks out of 20: \"))\n",
        "    exam=float(input(\"Enter Exam Marks out of 100: \"))\n",
        "    assignment=float(input(\"Enter Assignment Marks out of 100: \"))\n",
        "    project=float(input(\"Enter Project Marks out of 50: \"))\n",
        "    if read_marks(quiz,exam,assignment,project)==True:\n",
        "        gpa=compute_gpa(quiz,exam,assignment,project)\n",
        "        assign_grade(gpa)\n",
        "    else:\n",
        "      print('Invalid marks')\n",
        "\n",
        "if __name__ == \"__main__\":\n",
        "    main()\n"
      ],
      "execution_count": 26,
      "outputs": [
        {
          "output_type": "stream",
          "text": [
            "Enter Quiz Marks out of 20: 18\n",
            "Enter Exam Marks out of 100: 80\n",
            "Enter Assignment Marks out of 100: 90\n",
            "Enter Project Marks out of 50: 54\n",
            "Invalid marks\n"
          ],
          "name": "stdout"
        }
      ]
    },
    {
      "cell_type": "code",
      "metadata": {
        "colab": {
          "base_uri": "https://localhost:8080/"
        },
        "id": "_-G__Etg7_Y0",
        "outputId": "ed9ce371-11eb-4119-df8f-0cf87844f9f0"
      },
      "source": [
        "# solution for  P42\n",
        "# checking for the valididy of the marks entered \n",
        "def read_marks(quiz,exam,assignment,project):\n",
        "    #pass\n",
        "    bool=True\n",
        "    s=''\n",
        "    if quiz<0 :\n",
        "        bool=False\n",
        "        s='quiz<0'\n",
        "    if quiz>20:\n",
        "        bool=False\n",
        "        s='quiz>20'\n",
        "    if exam<0 :\n",
        "        bool=False\n",
        "        s='exam<0'\n",
        "    if exam >100:\n",
        "        bool=False\n",
        "        s='exam >100'\n",
        "    if assignment<0 :\n",
        "        bool=False\n",
        "        s='assignment<0'\n",
        "    if assignment>100:\n",
        "        bool=False\n",
        "        s='assignment>100'\n",
        "    if project<0 :\n",
        "        bool=False\n",
        "        s='project<0'\n",
        "    if project>50:\n",
        "        bool=False\n",
        "        s='project>50'\n",
        "    return [bool,s]\n",
        "    \n",
        "\n",
        "\n",
        "# computing GPA of the valid marks\n",
        "def compute_gpa(quiz,exam,assignment,project):\n",
        "    #pass\n",
        "    #global gpa\n",
        "    #gpa=float(((quiz*0.15/20)+(exam*0.4/100)+(assignment*0.2/100)+(project*0.25/50))*10)\n",
        "    return float(((quiz*0.15/20)+(exam*0.4/100)+(assignment*0.2/100)+(project*0.25/50))*10)\n",
        "\n",
        "\n",
        "# assigning grade according to the GPA\n",
        "def assign_grade(gpa):\n",
        "    #pass\n",
        "    if gpa==10:\n",
        "        print(gpa,'O')\n",
        "    elif gpa>=9 and gpa<10:\n",
        "        print(gpa,'A')\n",
        "    elif gpa>=8 and gpa<9:\n",
        "        print(gpa,'B')\n",
        "    elif gpa>=6.5 and gpa>8:\n",
        "        print(gpa,'C')\n",
        "    elif gpa>=5 and gpa>6.5:\n",
        "        print(gpa,'D')\n",
        "    else:\n",
        "        print(gpa,'F')\n",
        "\n",
        "def main():\n",
        "    #take input and call functions\n",
        "    quiz=float(input(\"Enter Quiz Marks out of 20: \"))\n",
        "    exam=float(input(\"Enter Exam Marks out of 100: \"))\n",
        "    assignment=float(input(\"Enter Assignment Marks out of 100: \"))\n",
        "    project=float(input(\"Enter Project Marks out of 50: \"))\n",
        "    if read_marks(quiz,exam,assignment,project)[0]==True:\n",
        "        gpa=compute_gpa(quiz,exam,assignment,project)\n",
        "        assign_grade(gpa)\n",
        "    elif read_marks(quiz,exam,assignment,project)[0]==False:\n",
        "        read_marks(quiz,exam,assignment,project)\n",
        "\n",
        "if __name__ == \"__main__\":\n",
        "    main()\n"
      ],
      "execution_count": 36,
      "outputs": [
        {
          "output_type": "stream",
          "text": [
            "Enter Quiz Marks out of 20: 18\n",
            "Enter Exam Marks out of 100: 80\n",
            "Enter Assignment Marks out of 100: 90\n",
            "Enter Project Marks out of 50: 54\n"
          ],
          "name": "stdout"
        }
      ]
    },
    {
      "cell_type": "markdown",
      "metadata": {
        "id": "9x1YS8QEHePq"
      },
      "source": [
        "DAY 6"
      ]
    },
    {
      "cell_type": "code",
      "metadata": {
        "colab": {
          "base_uri": "https://localhost:8080/"
        },
        "id": "0l7OSRdgtbq4",
        "outputId": "82e74f4c-0e05-483c-83bc-f0a3bae5c549"
      },
      "source": [
        "#P61\n",
        "roll=input()\n",
        "fileA=roll + 'A.txt'\n",
        "fileB=roll + 'B.txt'\n",
        "\n",
        "l1,l2=[],[]\n",
        "for i in range(0,3):\n",
        "  l1.append(input(''))\n",
        "for i in range(0,3):\n",
        "  l2.append(input(''))\n",
        "\n",
        "A, B = open(fileA, 'r'), open(fileB, 'r')\n",
        "print (A.read())\n",
        "print (B.read())\n",
        "A.close()\n",
        "B.close()"
      ],
      "execution_count": 19,
      "outputs": [
        {
          "output_type": "stream",
          "text": [
            "first\n"
          ],
          "name": "stdout"
        }
      ]
    },
    {
      "cell_type": "code",
      "metadata": {
        "id": "9oR70j4TIg4y"
      },
      "source": [
        "#P62\n",
        "roll=input()\n",
        "fileA=roll + 'A.txt'\n",
        "fileB=roll + 'B.txt'\n",
        "\n",
        "s=input('enter a string')\n",
        "c1,c2=0,0\n",
        "#reading in file 1\n",
        "file1 = open(\"fileA\", \"r\")\n",
        "readfile = file1.read()\n",
        "if string1 in readfile: \n",
        "    c1=1\n",
        "#reading in file 2\n",
        "file2 = open(\"fileB\", \"r\")\n",
        "readfile = file2.read()\n",
        "if string1 in readfile: \n",
        "    c2=1\n",
        "file1.close() \n",
        "\n",
        "if c1==1 and c2==1:\n",
        "  print('present in both files')\n",
        "elif: c1==1 and c2==0:\n",
        "  print('present is 1st file ')\n",
        "elif: c1==0 and c2==1:\n",
        "  print('present is 2nd file ')\n",
        "else:\n",
        "  print('present in none')\n"
      ],
      "execution_count": null,
      "outputs": []
    },
    {
      "cell_type": "code",
      "metadata": {
        "id": "yIqbDtG1Kszs"
      },
      "source": [
        "#P63\n",
        "file1=open(\"VendingItems.txt\",\"r\")\n",
        "s=input('enter the item you want')\n",
        "n=int(input('enter the amount'))\n",
        "class MyError(Exception):\n",
        "\tdef __init__(self, value):\n",
        "\t\tself.value = value\n",
        "\tdef __str__(self):\n",
        "\t\treturn(repr(self.value))\n",
        "try:\n",
        "\traise(MyError(key or value not in VendingItems.txt))\n",
        "except MyError as error:\n",
        "\tprint('A New Exception occured: ',error.value)\n",
        "finally:\n",
        "  if n<file1[s]:\n",
        "    print('amount less than mrp')\n",
        "  elif n>file1[s]:\n",
        "    print('Thank you for your purchase. Enjoy')\n",
        "    print('Do not forget to collect your change, ',n-file1[s],' Rs.')\n"
      ],
      "execution_count": null,
      "outputs": []
    },
    {
      "cell_type": "code",
      "metadata": {
        "id": "WDGl_WRIEheu"
      },
      "source": [
        "#P64\n",
        "file1=open(\"Marks.txt\",\"r\")\n",
        "m=[]\n",
        "mm=[20,100,100,50]\n",
        "w=[15,40,20,25]\n",
        "#global mm\n",
        "#global w\n",
        "s,x,c=0,0,0\n",
        "#print(w)\n",
        "print('enter the marks')\n",
        "for i in range(0,4):\n",
        "  m.append(int(input('')))\n",
        "try:\n",
        "  for i in range(0,4):\n",
        "  if m[i]<0 or m[i]>mm[i]:\n",
        "    raise('Invalid output')\n",
        "#compute_gpa() \n",
        "def compute_gpa():\n",
        "  for i in range(0,4):\n",
        "  s+=((m[i]/mm[i])*(w[i]/100))\n",
        "  s*=10\n",
        "  return round(s,2)\n",
        "def my_sort(line):\n",
        "    line_fields = line.strip().split(',')\n",
        "    amount = float(line_fields[2])\n",
        "    return amoun\n",
        "fp = open('Marks.txt')\n",
        "contents = fp.readlines()\n",
        "contents.sort(key=my_sort)\n",
        "file1.writelines(L)\n",
        "file1.close()"
      ],
      "execution_count": null,
      "outputs": []
    },
    {
      "cell_type": "markdown",
      "metadata": {
        "id": "VARif-MMerV6"
      },
      "source": [
        "DAY 7"
      ]
    },
    {
      "cell_type": "code",
      "metadata": {
        "id": "zwc6xaUqesqK"
      },
      "source": [
        "#P71\n",
        "l1,l2=[],[]\n",
        "for i in range(n):\n",
        "  for j in range(n):\n",
        "    l[1].append(int(input('')))\n",
        "  l2.append(l1)\n",
        "  l1=[]\n",
        "#l1=[]\n",
        "from scipy import linalg\n",
        "x = linalg.solve(a, b)\n",
        "x\n",
        "array([ 2., -2.,  9.])\n",
        "np.dot(a, x) == b\n",
        "array([ True,  True,  True], dtype=bool)"
      ],
      "execution_count": null,
      "outputs": []
    },
    {
      "cell_type": "code",
      "metadata": {
        "colab": {
          "base_uri": "https://localhost:8080/",
          "height": 129
        },
        "id": "bwhEfWvBgEEZ",
        "outputId": "870ef9e3-02e6-442a-cb5d-03e0bcd06667"
      },
      "source": [
        "#P72\n",
        "import matplotlib.pyplot as plt\n",
        "v=int(input('enter the velocity'))\n",
        "a=int(input('enter the angle'))\n",
        "t=2*u*sin(a)/9.8\n",
        "x=[u*u*sin(2*a)/9.8 for i range(t)]\n",
        "h=[x=u*u*sin(a*a)/2*9.8 for i in range(t)]\n",
        "print(t,x,h)\n",
        "\n",
        "plt.plot(x, y)\n",
        "plt.xlabel('x - axis')\n",
        "plt.ylabel('y - axis')\n",
        "plt.title('Projectile motion grapph')\n",
        "plt.show()"
      ],
      "execution_count": 1,
      "outputs": [
        {
          "output_type": "error",
          "ename": "SyntaxError",
          "evalue": "ignored",
          "traceback": [
            "\u001b[0;36m  File \u001b[0;32m\"<ipython-input-1-143c0dc51297>\"\u001b[0;36m, line \u001b[0;32m6\u001b[0m\n\u001b[0;31m    x=[u*u*sin(2*a)/9.8 for i range(t)]\u001b[0m\n\u001b[0m                                  ^\u001b[0m\n\u001b[0;31mSyntaxError\u001b[0m\u001b[0;31m:\u001b[0m invalid syntax\n"
          ]
        }
      ]
    },
    {
      "cell_type": "code",
      "metadata": {
        "id": "vbnEJEypjUs7"
      },
      "source": [
        "#P73\n",
        "import csv\n",
        "import pandas as pd\n",
        "with open('file_name.csv') as csv_file:\n",
        "    csv_reader = csv.Reader(csv_file, delimiter=',')\n",
        "    line_count = 0\n",
        "    for row in csv_reader:\n",
        "        print(f'\\t{row[0]} {row[1]}  {row[2]}')\n",
        "\n",
        "for filename in sys.argv[1:]:\n",
        "    file = open(filename, 'r')\n",
        "    for line in file.read().splitlines():\n",
        "        if line not in d:\n",
        "            d[line] = 1\n",
        "        else:\n",
        "            d[line] += 1\n",
        "    file.close()\n",
        "\n",
        "import operator\n",
        "print \"Item,Count\"\n",
        "for line in sorted(d.items(), key=operator.itemgetter(1)):\n",
        "    print line[0] + \",\" + str( line[1] )\n",
        "\n",
        "dataframe = pd.read_csv(\"csvfile1.csv\")\n",
        "dataframe.replace(to_replace =\"missing_values\",\n",
        "\t\t\t\tvalue = \"Mean\",\n",
        "\t\t\t\tinplace = True)\n",
        "dataframe.replace(to_replace =\"missing_values\",\n",
        "\t\t\t\tvalue = \"Mean\",\n",
        "\t\t\t\tinplace = True)\n",
        "dataframe.replace(to_replace =\"missing_values\",\n",
        "\t\t\t\tvalue = \"Mean\",\n",
        "\t\t\t\tinplace = True)\n",
        "dataframe.to_csv('outputfile.csv',\n",
        "\t\t\t\tindex = False)\n",
        "\n",
        "df = pd.read_csv(\"file_name.csv\")\n",
        "df.replace(to_replace =[\"\"])\n"
      ],
      "execution_count": null,
      "outputs": []
    },
    {
      "cell_type": "code",
      "metadata": {
        "id": "pou5uEgdlpP7"
      },
      "source": [
        "#P74\n",
        "import csv\n",
        "filename = \"file_name.csv\"\n",
        "fields = []\n",
        "rows = []\n",
        "with open(filename, 'r') as csvfile:\n",
        "    csvreader = csv.reader(csvfile)\n",
        "    fields = next(csvreader)\n",
        "    for row in csvreader:\n",
        "        rows.append(row)\n",
        "\n"
      ],
      "execution_count": null,
      "outputs": []
    },
    {
      "cell_type": "markdown",
      "metadata": {
        "id": "OcoACOw_p_ci"
      },
      "source": [
        "DAY 8"
      ]
    },
    {
      "cell_type": "code",
      "metadata": {
        "id": "M_l-a51aqCrc"
      },
      "source": [
        "#P81\n",
        "def areaRectangle(a, b):\n",
        "\treturn (a * b)\n",
        "def perimeterRectangle(a, b):\n",
        "\treturn (2 * (a + b)\n",
        "a = int(input('enter length'));\n",
        "b = int(input('enter breadth'));\n",
        "print (\"Area = \", areaRectangle(a, b))\n",
        "print (\"Perimeter = \", perimeterRectangle(a, b))\n"
      ],
      "execution_count": null,
      "outputs": []
    },
    {
      "cell_type": "code",
      "metadata": {
        "id": "1PTwLwCarLE7"
      },
      "source": [
        "#P82\n",
        "class RationalNumber :\n",
        "  def __add__(self, o):\n",
        "    return self.a + o.a\n",
        "  def __subtract__(self, o):\n",
        "    return self.a - o.a\n",
        "  def __multiply__(self, o):\n",
        "    return self.a * o.a\n",
        "  def __divide__(self, o):\n",
        "    return self.a / o.a\n",
        "  def __equal__(self, o):\n",
        "    return self.a == o.a\n",
        "  def __notequal__(self, o):\n",
        "    return self.a != o.a\n",
        "  def __greatorthan__(self, o):\n",
        "    return self.a > o.a\n",
        "  def __lessthan__(self, o):\n",
        "    return self.a < o.a\n",
        "  def __greatorequal__(self, o):\n",
        "    return self.a >= o.a\n",
        "  def __lessequal__(self, o):\n",
        "    return self.a <= o.a\n",
        "    \n",
        "  x=int(input('enter first variable'))\n",
        "  y=int(input('enter second variable'))\n",
        "  op=(input('enter operator'))"
      ],
      "execution_count": null,
      "outputs": []
    },
    {
      "cell_type": "code",
      "metadata": {
        "id": "r_IreBeQsuJY"
      },
      "source": [
        "#P83\n",
        "class GPA:\n",
        "  def __init__(self,teacher,ta,student_role):\n",
        "        self.teacher = teacher            \n",
        "        self.ta = ta\n",
        "        self.student_role = student_role\n",
        "  def add():\n",
        "    self.records+=records\n",
        "  def compute():\n",
        "    self.records+=records\n",
        "  def assign():\n",
        "    self.records=records\n",
        "  def generate():\n",
        "    self.records+=records\n",
        "  def display():\n",
        "    self.records+=records\n",
        "  def update():\n",
        "    self.records+=records"
      ],
      "execution_count": null,
      "outputs": []
    },
    {
      "cell_type": "markdown",
      "metadata": {
        "id": "QQ8kjhnbwY3d"
      },
      "source": [
        "DAY 9"
      ]
    },
    {
      "cell_type": "code",
      "metadata": {
        "id": "7iAcJZYcwaTV"
      },
      "source": [
        "#P91\n",
        "import pandas as pd\n",
        "df = pd.DataFrame(titanic)\n",
        "df.drop(['PassengerId','Name','Ticket','Cabin','Embarked','Parch'], axis = 1)\n",
        "\n",
        "one_hot_encoded_data = pd.get_dummies(data, columns = ['sex'])\n",
        "print(one_hot_encoded_data)\n",
        "\n",
        "import pandas as pd\n",
        "import numpy as np\n",
        "import matplotlib.pyplot as plt\n",
        "from sklearn.linear_model import LogisticRegression\n",
        "classifier = LogisticRegression(random_state = 0)\n",
        "classifier.fit(xtrain, ytrain)\n",
        "\n"
      ],
      "execution_count": null,
      "outputs": []
    },
    {
      "cell_type": "code",
      "metadata": {
        "id": "SU7h-jwDyLfb"
      },
      "source": [
        "#P92\n",
        "with open('apple_comp_data.txt') as f:\n",
        "    lines = f.readlines()\n",
        "open(apple_comp_data.txt, 'w')\n",
        "with open('apple_fruit_data.txt') as f:\n",
        "    lines = f.readlines()\n",
        "open(apple_fruit_data.txt, 'w')\n",
        "\n",
        "import random\n",
        "from datetime import datetime\n",
        "start = datetime.now()\n",
        "data_file = open('file.txt', 'w')\n",
        "for seq_id in range(0, 1000000):\n",
        "        num_val=random.random()\n",
        "        line=\"%i %f\\n\" % (seq_id, num_val)\n",
        "        data_file.write(line)\n",
        "end = datetime.now()\n",
        "print(\"elapsed time %s\" % (end - start))"
      ],
      "execution_count": null,
      "outputs": []
    }
  ]
}